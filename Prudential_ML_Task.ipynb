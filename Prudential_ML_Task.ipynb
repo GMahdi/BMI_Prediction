{
 "cells": [
  {
   "cell_type": "code",
   "execution_count": 1,
   "id": "27c622c1",
   "metadata": {},
   "outputs": [],
   "source": [
    "import pandas as pd\n",
    "import numpy as np\n",
    "\n",
    "from sklearn.model_selection import train_test_split\n",
    "from sklearn.metrics import mean_squared_error, r2_score\n",
    "from sklearn.preprocessing import StandardScaler, OneHotEncoder\n",
    "from sklearn.compose import ColumnTransformer\n",
    "from sklearn.pipeline import Pipeline\n",
    "\n",
    "from sklearn.linear_model import LinearRegression\n",
    "from sklearn.ensemble import RandomForestRegressor\n",
    "from xgboost import XGBRegressor\n",
    "\n",
    "import matplotlib.pyplot as plt\n",
    "import seaborn as sns\n",
    "\n",
    "%matplotlib inline"
   ]
  },
  {
   "cell_type": "code",
   "execution_count": 2,
   "id": "2554513f",
   "metadata": {},
   "outputs": [],
   "source": [
    "prudential_df = pd.read_csv('Dummy-Data 1.csv')"
   ]
  },
  {
   "cell_type": "markdown",
   "id": "90b07e3d",
   "metadata": {},
   "source": [
    "## Exploratory Data Analysis"
   ]
  },
  {
   "cell_type": "code",
   "execution_count": 3,
   "id": "a3956954",
   "metadata": {},
   "outputs": [
    {
     "data": {
      "text/plain": [
       "Index(['AppID', 'Ins_Age', 'Ins_Gender', 'Ht', 'Wt', 'IssueDate'], dtype='object')"
      ]
     },
     "execution_count": 3,
     "metadata": {},
     "output_type": "execute_result"
    }
   ],
   "source": [
    "prudential_df.columns"
   ]
  },
  {
   "cell_type": "code",
   "execution_count": 4,
   "id": "2914318c",
   "metadata": {},
   "outputs": [
    {
     "data": {
      "text/html": [
       "<div>\n",
       "<style scoped>\n",
       "    .dataframe tbody tr th:only-of-type {\n",
       "        vertical-align: middle;\n",
       "    }\n",
       "\n",
       "    .dataframe tbody tr th {\n",
       "        vertical-align: top;\n",
       "    }\n",
       "\n",
       "    .dataframe thead th {\n",
       "        text-align: right;\n",
       "    }\n",
       "</style>\n",
       "<table border=\"1\" class=\"dataframe\">\n",
       "  <thead>\n",
       "    <tr style=\"text-align: right;\">\n",
       "      <th></th>\n",
       "      <th>AppID</th>\n",
       "      <th>Ins_Age</th>\n",
       "      <th>Ins_Gender</th>\n",
       "      <th>Ht</th>\n",
       "      <th>Wt</th>\n",
       "      <th>IssueDate</th>\n",
       "    </tr>\n",
       "  </thead>\n",
       "  <tbody>\n",
       "    <tr>\n",
       "      <th>0</th>\n",
       "      <td>56372</td>\n",
       "      <td>31</td>\n",
       "      <td>Male</td>\n",
       "      <td>510</td>\n",
       "      <td>185</td>\n",
       "      <td>NaN</td>\n",
       "    </tr>\n",
       "    <tr>\n",
       "      <th>1</th>\n",
       "      <td>34565</td>\n",
       "      <td>35</td>\n",
       "      <td>Male</td>\n",
       "      <td>510</td>\n",
       "      <td>205</td>\n",
       "      <td>NaN</td>\n",
       "    </tr>\n",
       "  </tbody>\n",
       "</table>\n",
       "</div>"
      ],
      "text/plain": [
       "   AppID  Ins_Age Ins_Gender   Ht   Wt  IssueDate\n",
       "0  56372       31       Male  510  185        NaN\n",
       "1  34565       35       Male  510  205        NaN"
      ]
     },
     "execution_count": 4,
     "metadata": {},
     "output_type": "execute_result"
    }
   ],
   "source": [
    "prudential_df.head(2)"
   ]
  },
  {
   "cell_type": "code",
   "execution_count": 5,
   "id": "a98776be",
   "metadata": {},
   "outputs": [
    {
     "name": "stdout",
     "output_type": "stream",
     "text": [
      "<class 'pandas.core.frame.DataFrame'>\n",
      "RangeIndex: 100 entries, 0 to 99\n",
      "Data columns (total 6 columns):\n",
      " #   Column      Non-Null Count  Dtype  \n",
      "---  ------      --------------  -----  \n",
      " 0   AppID       100 non-null    int64  \n",
      " 1   Ins_Age     100 non-null    int64  \n",
      " 2   Ins_Gender  100 non-null    object \n",
      " 3   Ht          100 non-null    int64  \n",
      " 4   Wt          100 non-null    int64  \n",
      " 5   IssueDate   0 non-null      float64\n",
      "dtypes: float64(1), int64(4), object(1)\n",
      "memory usage: 4.8+ KB\n"
     ]
    }
   ],
   "source": [
    "prudential_df.info()"
   ]
  },
  {
   "cell_type": "code",
   "execution_count": 6,
   "id": "63867946",
   "metadata": {},
   "outputs": [
    {
     "data": {
      "text/html": [
       "<div>\n",
       "<style scoped>\n",
       "    .dataframe tbody tr th:only-of-type {\n",
       "        vertical-align: middle;\n",
       "    }\n",
       "\n",
       "    .dataframe tbody tr th {\n",
       "        vertical-align: top;\n",
       "    }\n",
       "\n",
       "    .dataframe thead th {\n",
       "        text-align: right;\n",
       "    }\n",
       "</style>\n",
       "<table border=\"1\" class=\"dataframe\">\n",
       "  <thead>\n",
       "    <tr style=\"text-align: right;\">\n",
       "      <th></th>\n",
       "      <th>AppID</th>\n",
       "      <th>Ins_Age</th>\n",
       "      <th>Ins_Gender</th>\n",
       "      <th>Ht</th>\n",
       "      <th>Wt</th>\n",
       "      <th>IssueDate</th>\n",
       "    </tr>\n",
       "  </thead>\n",
       "  <tbody>\n",
       "    <tr>\n",
       "      <th>count</th>\n",
       "      <td>100.000000</td>\n",
       "      <td>100.000000</td>\n",
       "      <td>100</td>\n",
       "      <td>100.000000</td>\n",
       "      <td>100.00000</td>\n",
       "      <td>0.0</td>\n",
       "    </tr>\n",
       "    <tr>\n",
       "      <th>unique</th>\n",
       "      <td>NaN</td>\n",
       "      <td>NaN</td>\n",
       "      <td>2</td>\n",
       "      <td>NaN</td>\n",
       "      <td>NaN</td>\n",
       "      <td>NaN</td>\n",
       "    </tr>\n",
       "    <tr>\n",
       "      <th>top</th>\n",
       "      <td>NaN</td>\n",
       "      <td>NaN</td>\n",
       "      <td>Male</td>\n",
       "      <td>NaN</td>\n",
       "      <td>NaN</td>\n",
       "      <td>NaN</td>\n",
       "    </tr>\n",
       "    <tr>\n",
       "      <th>freq</th>\n",
       "      <td>NaN</td>\n",
       "      <td>NaN</td>\n",
       "      <td>63</td>\n",
       "      <td>NaN</td>\n",
       "      <td>NaN</td>\n",
       "      <td>NaN</td>\n",
       "    </tr>\n",
       "    <tr>\n",
       "      <th>mean</th>\n",
       "      <td>79455.570000</td>\n",
       "      <td>37.320000</td>\n",
       "      <td>NaN</td>\n",
       "      <td>527.720000</td>\n",
       "      <td>165.15000</td>\n",
       "      <td>NaN</td>\n",
       "    </tr>\n",
       "    <tr>\n",
       "      <th>std</th>\n",
       "      <td>31123.726942</td>\n",
       "      <td>12.103827</td>\n",
       "      <td>NaN</td>\n",
       "      <td>39.482787</td>\n",
       "      <td>27.66224</td>\n",
       "      <td>NaN</td>\n",
       "    </tr>\n",
       "    <tr>\n",
       "      <th>min</th>\n",
       "      <td>12123.000000</td>\n",
       "      <td>19.000000</td>\n",
       "      <td>NaN</td>\n",
       "      <td>500.000000</td>\n",
       "      <td>110.00000</td>\n",
       "      <td>NaN</td>\n",
       "    </tr>\n",
       "    <tr>\n",
       "      <th>25%</th>\n",
       "      <td>64296.000000</td>\n",
       "      <td>27.750000</td>\n",
       "      <td>NaN</td>\n",
       "      <td>506.000000</td>\n",
       "      <td>145.00000</td>\n",
       "      <td>NaN</td>\n",
       "    </tr>\n",
       "    <tr>\n",
       "      <th>50%</th>\n",
       "      <td>99444.500000</td>\n",
       "      <td>36.000000</td>\n",
       "      <td>NaN</td>\n",
       "      <td>509.000000</td>\n",
       "      <td>170.00000</td>\n",
       "      <td>NaN</td>\n",
       "    </tr>\n",
       "    <tr>\n",
       "      <th>75%</th>\n",
       "      <td>99917.000000</td>\n",
       "      <td>47.000000</td>\n",
       "      <td>NaN</td>\n",
       "      <td>511.000000</td>\n",
       "      <td>180.00000</td>\n",
       "      <td>NaN</td>\n",
       "    </tr>\n",
       "    <tr>\n",
       "      <th>max</th>\n",
       "      <td>100345.000000</td>\n",
       "      <td>59.000000</td>\n",
       "      <td>NaN</td>\n",
       "      <td>605.000000</td>\n",
       "      <td>275.00000</td>\n",
       "      <td>NaN</td>\n",
       "    </tr>\n",
       "  </tbody>\n",
       "</table>\n",
       "</div>"
      ],
      "text/plain": [
       "                AppID     Ins_Age Ins_Gender          Ht         Wt  IssueDate\n",
       "count      100.000000  100.000000        100  100.000000  100.00000        0.0\n",
       "unique            NaN         NaN          2         NaN        NaN        NaN\n",
       "top               NaN         NaN       Male         NaN        NaN        NaN\n",
       "freq              NaN         NaN         63         NaN        NaN        NaN\n",
       "mean     79455.570000   37.320000        NaN  527.720000  165.15000        NaN\n",
       "std      31123.726942   12.103827        NaN   39.482787   27.66224        NaN\n",
       "min      12123.000000   19.000000        NaN  500.000000  110.00000        NaN\n",
       "25%      64296.000000   27.750000        NaN  506.000000  145.00000        NaN\n",
       "50%      99444.500000   36.000000        NaN  509.000000  170.00000        NaN\n",
       "75%      99917.000000   47.000000        NaN  511.000000  180.00000        NaN\n",
       "max     100345.000000   59.000000        NaN  605.000000  275.00000        NaN"
      ]
     },
     "execution_count": 6,
     "metadata": {},
     "output_type": "execute_result"
    }
   ],
   "source": [
    "prudential_df.describe(include='all')"
   ]
  },
  {
   "cell_type": "code",
   "execution_count": 7,
   "id": "0f5afdfa",
   "metadata": {},
   "outputs": [
    {
     "data": {
      "text/plain": [
       "Male      63\n",
       "Female    37\n",
       "Name: Ins_Gender, dtype: int64"
      ]
     },
     "execution_count": 7,
     "metadata": {},
     "output_type": "execute_result"
    }
   ],
   "source": [
    "prudential_df['Ins_Gender'].value_counts()"
   ]
  },
  {
   "cell_type": "code",
   "execution_count": 7,
   "id": "b4590b52",
   "metadata": {},
   "outputs": [
    {
     "data": {
      "text/plain": [
       "AppID           0\n",
       "Ins_Age         0\n",
       "Ins_Gender      0\n",
       "Ht              0\n",
       "Wt              0\n",
       "IssueDate     100\n",
       "dtype: int64"
      ]
     },
     "execution_count": 7,
     "metadata": {},
     "output_type": "execute_result"
    }
   ],
   "source": [
    "prudential_df.isnull().sum()"
   ]
  },
  {
   "cell_type": "code",
   "execution_count": 8,
   "id": "0a919c3c",
   "metadata": {},
   "outputs": [],
   "source": [
    "prudential_df.drop('IssueDate',inplace=True, axis=1)  #Drop Null column"
   ]
  },
  {
   "cell_type": "markdown",
   "id": "9ab0543a",
   "metadata": {},
   "source": [
    "### Univariate Analysis"
   ]
  },
  {
   "cell_type": "code",
   "execution_count": 9,
   "id": "25e53050",
   "metadata": {},
   "outputs": [
    {
     "data": {
      "image/png": "[encoded data removed]",
      "text/plain": [
       "<Figure size 1080x432 with 1 Axes>"
      ]
     },
     "metadata": {
      "needs_background": "light"
     },
     "output_type": "display_data"
    }
   ],
   "source": [
    "# Histogram and KDE plot for Age\n",
    "plt.figure(figsize=(15, 6))\n",
    "sns.histplot(prudential_df['Ins_Age'], kde=True, bins=10)\n",
    "plt.title('Age Distribution')\n",
    "plt.show()"
   ]
  },
  {
   "cell_type": "code",
   "execution_count": 10,
   "id": "1de00d06",
   "metadata": {},
   "outputs": [
    {
     "data": {
      "image/png": "[encoded data removed]",
      "text/plain": [
       "<Figure size 1080x432 with 1 Axes>"
      ]
     },
     "metadata": {
      "needs_background": "light"
     },
     "output_type": "display_data"
    }
   ],
   "source": [
    "# Age counts plot\n",
    "prudential_df['Ins_Age'].value_counts().sort_values().plot(kind='bar', figsize=(15, 6))\n",
    "plt.title('Value Count Distribution of Ins_Age', fontsize=16)\n",
    "plt.xlabel('Age')\n",
    "plt.ylabel('Count')\n",
    "plt.xticks(rotation=0)  \n",
    "plt.show()"
   ]
  },
  {
   "cell_type": "code",
   "execution_count": 11,
   "id": "945b743d",
   "metadata": {},
   "outputs": [
    {
     "data": {
      "image/png": "[encoded data removed]",
      "text/plain": [
       "<Figure size 1080x432 with 1 Axes>"
      ]
     },
     "metadata": {
      "needs_background": "light"
     },
     "output_type": "display_data"
    }
   ],
   "source": [
    "# Boxplot for Weight\n",
    "plt.figure(figsize=(15, 6))\n",
    "sns.boxplot(data=prudential_df['Wt'], color='green')\n",
    "plt.title('Weight Distribution')\n",
    "plt.show()"
   ]
  },
  {
   "cell_type": "code",
   "execution_count": 12,
   "id": "8969643c",
   "metadata": {},
   "outputs": [
    {
     "data": {
      "image/png": "[encoded data removed]",
      "text/plain": [
       "<Figure size 1080x432 with 1 Axes>"
      ]
     },
     "metadata": {
      "needs_background": "light"
     },
     "output_type": "display_data"
    }
   ],
   "source": [
    "# Boxplot for Height\n",
    "plt.figure(figsize=(15, 6))\n",
    "sns.boxplot(data=prudential_df['Ht'], color='orange')\n",
    "plt.title('Height Distribution')\n",
    "plt.show()"
   ]
  },
  {
   "cell_type": "code",
   "execution_count": 13,
   "id": "a646af27",
   "metadata": {},
   "outputs": [
    {
     "data": {
      "image/png": "[encoded data removed]",
      "text/plain": [
       "<Figure size 1080x432 with 1 Axes>"
      ]
     },
     "metadata": {
      "needs_background": "light"
     },
     "output_type": "display_data"
    }
   ],
   "source": [
    "prudential_df['Ins_Gender'].value_counts().plot(kind='bar', figsize=(15, 6))\n",
    "plt.title('Gender Distribution')\n",
    "plt.show()"
   ]
  },
  {
   "cell_type": "markdown",
   "id": "6e2bd063",
   "metadata": {},
   "source": [
    "### Bivariate Analysis"
   ]
  },
  {
   "cell_type": "code",
   "execution_count": 14,
   "id": "5459a5e5",
   "metadata": {},
   "outputs": [
    {
     "data": {
      "image/png": "[encoded data removed]",
      "text/plain": [
       "<Figure size 1080x432 with 2 Axes>"
      ]
     },
     "metadata": {
      "needs_background": "light"
     },
     "output_type": "display_data"
    }
   ],
   "source": [
    "# Correlation heatmap\n",
    "plt.figure(figsize=(15, 6))\n",
    "corr = prudential_df[['Ins_Age', 'Ht', 'Wt']].corr()\n",
    "sns.heatmap(corr, annot=True, cmap='coolwarm')\n",
    "plt.title('Correlation Matrix')\n",
    "plt.show()"
   ]
  },
  {
   "cell_type": "code",
   "execution_count": 15,
   "id": "f52152c9",
   "metadata": {},
   "outputs": [
    {
     "data": {
      "image/png": "[encoded data removed]",
      "text/plain": [
       "<Figure size 1080x432 with 1 Axes>"
      ]
     },
     "metadata": {
      "needs_background": "light"
     },
     "output_type": "display_data"
    }
   ],
   "source": [
    "# Boxplot of Weight by Gender\n",
    "plt.figure(figsize=(15, 6))\n",
    "sns.boxplot(x='Ins_Gender', y='Wt', data=prudential_df)\n",
    "plt.title('Weight by Gender')\n",
    "plt.show()"
   ]
  },
  {
   "cell_type": "code",
   "execution_count": 16,
   "id": "1f33ef2e",
   "metadata": {},
   "outputs": [
    {
     "data": {
      "image/png": "[encoded data removed]",
      "text/plain": [
       "<Figure size 1080x432 with 1 Axes>"
      ]
     },
     "metadata": {
      "needs_background": "light"
     },
     "output_type": "display_data"
    }
   ],
   "source": [
    "# Boxplot of Height by Gender\n",
    "plt.figure(figsize=(15, 6))\n",
    "sns.boxplot(x='Ins_Gender', y='Ht', data=prudential_df)\n",
    "plt.title('Height by Gender')\n",
    "plt.show()"
   ]
  },
  {
   "cell_type": "markdown",
   "id": "c675e874",
   "metadata": {},
   "source": [
    "### Outlier Detection"
   ]
  },
  {
   "cell_type": "code",
   "execution_count": 17,
   "id": "311cedcf",
   "metadata": {},
   "outputs": [],
   "source": [
    "def detect_outliers_iqr(data, column):\n",
    "    \"\"\"\n",
    "    Detects outliers in a DataFrame column using the IQR method.\n",
    "    \n",
    "    Parameters:\n",
    "        data (pd.DataFrame): The DataFrame containing the data.\n",
    "        column (str): The name of the column to analyze.\n",
    "    \n",
    "    Returns:\n",
    "        pd.DataFrame: A DataFrame of rows with outliers.\n",
    "    \"\"\"\n",
    "    Q1 = data[column].quantile(0.25)  # First quartile (25th percentile)\n",
    "    Q3 = data[column].quantile(0.75)  # Third quartile (75th percentile)\n",
    "    IQR = Q3 - Q1  # Interquartile range\n",
    "\n",
    "    # Define bounds for outliers\n",
    "    lower_bound = Q1 - 1.5 * IQR\n",
    "    upper_bound = Q3 + 1.5 * IQR\n",
    "\n",
    "    # Filter outliers\n",
    "    outliers = data[(data[column] < lower_bound) | (data[column] > upper_bound)]\n",
    "    \n",
    "    return outliers"
   ]
  },
  {
   "cell_type": "code",
   "execution_count": 18,
   "id": "6a91add7",
   "metadata": {},
   "outputs": [
    {
     "name": "stdout",
     "output_type": "stream",
     "text": [
      "Outliers in Age:\n",
      "Empty DataFrame\n",
      "Columns: [AppID, Ins_Age, Ins_Gender, Ht, Wt]\n",
      "Index: []\n"
     ]
    }
   ],
   "source": [
    "age_outliers = detect_outliers_iqr(prudential_df, 'Ins_Age')\n",
    "print(\"Outliers in Age:\")\n",
    "print(age_outliers)"
   ]
  },
  {
   "cell_type": "code",
   "execution_count": 19,
   "id": "ca4ee932",
   "metadata": {},
   "outputs": [
    {
     "name": "stdout",
     "output_type": "stream",
     "text": [
      "Outliers in weight:\n",
      "    AppID  Ins_Age Ins_Gender   Ht   Wt\n",
      "4   12323       39     Female  600  252\n",
      "95  99511       35       Male  510  275\n"
     ]
    }
   ],
   "source": [
    "weight_outliers=detect_outliers_iqr(prudential_df, 'Wt')\n",
    "print(\"Outliers in weight:\")\n",
    "print(weight_outliers)"
   ]
  },
  {
   "cell_type": "code",
   "execution_count": 20,
   "id": "bca4d35d",
   "metadata": {},
   "outputs": [
    {
     "name": "stdout",
     "output_type": "stream",
     "text": [
      "Outliers in height:\n",
      "     AppID  Ins_Age Ins_Gender   Ht   Wt\n",
      "4    12323       39     Female  600  252\n",
      "8    63462       40     Female  600  155\n",
      "11   45764       31     Female  601  200\n",
      "26  100344       40       Male  601  140\n",
      "28   13545       19     Female  601  170\n",
      "31   93590       57     Female  601  170\n",
      "33   93587       19       Male  601  180\n",
      "39   99437       26       Male  601  133\n",
      "40   99452       46       Male  601  180\n",
      "47   64574       25       Male  601  160\n",
      "48   75324       46     Female  601  180\n",
      "55   99918       47       Male  602  160\n",
      "56   99946       24       Male  604  180\n",
      "57   13352       36     Female  600  120\n",
      "65   99947       47       Male  602  120\n",
      "66   13134       24     Female  604  150\n",
      "67   54226       36       Male  600  180\n",
      "80   93077       36       Male  601  121\n",
      "81   99513       59       Male  601  180\n",
      "84   34523       32       Male  601  125\n",
      "91   99513       55       Male  605  180\n",
      "96   23781       27       Male  604  145\n"
     ]
    }
   ],
   "source": [
    "height_outliers = detect_outliers_iqr(prudential_df, 'Ht')\n",
    "print(\"Outliers in height:\")\n",
    "print(height_outliers)"
   ]
  },
  {
   "cell_type": "markdown",
   "id": "9314d4ea",
   "metadata": {},
   "source": [
    "#### In a typical maching learning modelling process, we need to treat the outliers by using different simple/statstical methods but here the nature of the probelm is a bit differnt so I am keeping the values"
   ]
  },
  {
   "cell_type": "markdown",
   "id": "d0c8a174",
   "metadata": {},
   "source": [
    "## Feature Engineering"
   ]
  },
  {
   "cell_type": "code",
   "execution_count": 21,
   "id": "99056327",
   "metadata": {},
   "outputs": [],
   "source": [
    "def calculate_bmi(height, weight):\n",
    "    \n",
    "    # Extract feet and inches\n",
    "    feet = height//100\n",
    "    inches = height%100\n",
    "    \n",
    "    # Convert height to meters\n",
    "    height_meters = (feet * 12 + inches) * 0.0254\n",
    "    \n",
    "     # Convert weight to kilograms\n",
    "    weight_kg = weight * 0.453592\n",
    "    #Calculate BMI\n",
    "    bmi = round(weight_kg / (height_meters ** 2),2)\n",
    "    return bmi"
   ]
  },
  {
   "cell_type": "code",
   "execution_count": 22,
   "id": "eaf98624",
   "metadata": {},
   "outputs": [],
   "source": [
    "prudential_df[\"Ins_BMI\"] = calculate_bmi(prudential_df[\"Ht\"], prudential_df[\"Wt\"])"
   ]
  },
  {
   "cell_type": "code",
   "execution_count": 23,
   "id": "6547e3d0",
   "metadata": {},
   "outputs": [
    {
     "data": {
      "text/html": [
       "<div>\n",
       "<style scoped>\n",
       "    .dataframe tbody tr th:only-of-type {\n",
       "        vertical-align: middle;\n",
       "    }\n",
       "\n",
       "    .dataframe tbody tr th {\n",
       "        vertical-align: top;\n",
       "    }\n",
       "\n",
       "    .dataframe thead th {\n",
       "        text-align: right;\n",
       "    }\n",
       "</style>\n",
       "<table border=\"1\" class=\"dataframe\">\n",
       "  <thead>\n",
       "    <tr style=\"text-align: right;\">\n",
       "      <th></th>\n",
       "      <th>AppID</th>\n",
       "      <th>Ins_Age</th>\n",
       "      <th>Ins_Gender</th>\n",
       "      <th>Ht</th>\n",
       "      <th>Wt</th>\n",
       "      <th>Ins_BMI</th>\n",
       "    </tr>\n",
       "  </thead>\n",
       "  <tbody>\n",
       "    <tr>\n",
       "      <th>0</th>\n",
       "      <td>56372</td>\n",
       "      <td>31</td>\n",
       "      <td>Male</td>\n",
       "      <td>510</td>\n",
       "      <td>185</td>\n",
       "      <td>26.54</td>\n",
       "    </tr>\n",
       "    <tr>\n",
       "      <th>1</th>\n",
       "      <td>34565</td>\n",
       "      <td>35</td>\n",
       "      <td>Male</td>\n",
       "      <td>510</td>\n",
       "      <td>205</td>\n",
       "      <td>29.41</td>\n",
       "    </tr>\n",
       "  </tbody>\n",
       "</table>\n",
       "</div>"
      ],
      "text/plain": [
       "   AppID  Ins_Age Ins_Gender   Ht   Wt  Ins_BMI\n",
       "0  56372       31       Male  510  185    26.54\n",
       "1  34565       35       Male  510  205    29.41"
      ]
     },
     "execution_count": 23,
     "metadata": {},
     "output_type": "execute_result"
    }
   ],
   "source": [
    "prudential_df.head(2)"
   ]
  },
  {
   "cell_type": "code",
   "execution_count": 24,
   "id": "3f548f01",
   "metadata": {},
   "outputs": [
    {
     "data": {
      "image/png": "[encoded data removed]",
      "text/plain": [
       "<Figure size 1080x432 with 2 Axes>"
      ]
     },
     "metadata": {
      "needs_background": "light"
     },
     "output_type": "display_data"
    }
   ],
   "source": [
    "# Correlation heatmap, this time along with BMI\n",
    "plt.figure(figsize=(15, 6))\n",
    "corr = prudential_df[['Ins_Age', 'Ht', 'Wt', 'Ins_BMI']].corr()\n",
    "sns.heatmap(corr, annot=True, cmap='coolwarm')\n",
    "plt.title('Correlation Matrix')\n",
    "plt.show()"
   ]
  },
  {
   "cell_type": "markdown",
   "id": "d2d0c38b",
   "metadata": {},
   "source": [
    "## Model Training"
   ]
  },
  {
   "cell_type": "code",
   "execution_count": 25,
   "id": "b0b0da64",
   "metadata": {},
   "outputs": [],
   "source": [
    "y = prudential_df['Ins_BMI']\n",
    "X = prudential_df[['Ins_Age', 'Ins_Gender','Ht', 'Wt']]"
   ]
  },
  {
   "cell_type": "code",
   "execution_count": 26,
   "id": "f937ed96",
   "metadata": {},
   "outputs": [],
   "source": [
    "# Data Preprocessing\n",
    "preprocessor = ColumnTransformer(\n",
    "    transformers=[\n",
    "        ('num', StandardScaler(), ['Ins_Age', 'Ht', 'Wt']),\n",
    "        ('cat', OneHotEncoder(), ['Ins_Gender'])\n",
    "    ]\n",
    ")"
   ]
  },
  {
   "cell_type": "code",
   "execution_count": 27,
   "id": "c3fe933d",
   "metadata": {},
   "outputs": [],
   "source": [
    "# Train-test split\n",
    "X_train, X_test, y_train, y_test = train_test_split(X, y, test_size=0.2, random_state=42)"
   ]
  },
  {
   "cell_type": "markdown",
   "id": "e595c47e",
   "metadata": {},
   "source": [
    "### Model 1: Linear Regression"
   ]
  },
  {
   "cell_type": "code",
   "execution_count": 28,
   "id": "81c21d20",
   "metadata": {},
   "outputs": [
    {
     "name": "stdout",
     "output_type": "stream",
     "text": [
      "Linear Regression MSE: 5.19, R-squared: 0.79\n"
     ]
    }
   ],
   "source": [
    "lr_model = Pipeline(steps=[\n",
    "    ('preprocessor', preprocessor),\n",
    "    ('regressor', LinearRegression())\n",
    "])\n",
    "\n",
    "lr_model.fit(X_train, y_train)\n",
    "\n",
    "# Predictions\n",
    "y_pred_lr = lr_model.predict(X_test)\n",
    "\n",
    "# Evaluate Model\n",
    "mse = mean_squared_error(y_test, y_pred_lr)\n",
    "r2 = r2_score(y_test, y_pred_lr)\n",
    "print(f\"Linear Regression MSE: {mse:.2f}, R-squared: {r2:.2f}\")"
   ]
  },
  {
   "cell_type": "markdown",
   "id": "8d126559",
   "metadata": {},
   "source": [
    "### Model 2: Random Forest Regression"
   ]
  },
  {
   "cell_type": "code",
   "execution_count": 29,
   "id": "d7d23889",
   "metadata": {},
   "outputs": [
    {
     "name": "stdout",
     "output_type": "stream",
     "text": [
      "Random Forest MSE: 2.25, R-squared: 0.91\n"
     ]
    }
   ],
   "source": [
    "rf_model = Pipeline(steps=[\n",
    "    ('preprocessor', preprocessor),\n",
    "    ('regressor', RandomForestRegressor(n_estimators=10, random_state=42))\n",
    "])\n",
    "\n",
    "rf_model.fit(X_train, y_train)\n",
    "\n",
    "# Predictions\n",
    "y_pred_rf = rf_model.predict(X_test)\n",
    "\n",
    "# Evaluate Model\n",
    "mse_rf = mean_squared_error(y_test, y_pred_rf)\n",
    "r2_rf = r2_score(y_test, y_pred_rf)\n",
    "print(f\"Random Forest MSE: {mse_rf:.2f}, R-squared: {r2_rf:.2f}\")"
   ]
  },
  {
   "cell_type": "markdown",
   "id": "7ccde44a",
   "metadata": {},
   "source": [
    "### Model 3: XGBoost Regression"
   ]
  },
  {
   "cell_type": "code",
   "execution_count": 30,
   "id": "d2df7a33",
   "metadata": {},
   "outputs": [
    {
     "name": "stdout",
     "output_type": "stream",
     "text": [
      "XGBoost - MSE: 0.62, R-squared: 0.98\n"
     ]
    }
   ],
   "source": [
    "xgb_model = Pipeline(steps=[\n",
    "    ('preprocessor', preprocessor),\n",
    "    ('regressor', XGBRegressor(\n",
    "    objective='reg:squarederror',\n",
    "    n_estimators=100,\n",
    "    learning_rate=0.1,\n",
    "    max_depth=5,\n",
    "    random_state=42\n",
    "))\n",
    "])\n",
    "\n",
    "# Fit the model\n",
    "xgb_model.fit(X_train, y_train)\n",
    "\n",
    "# Predictions\n",
    "y_pred_xgb = xgb_model.predict(X_test)\n",
    "\n",
    "# Evaluate\n",
    "mse_xgb = mean_squared_error(y_test, y_pred_xgb)\n",
    "r2_xgb = r2_score(y_test, y_pred_xgb)\n",
    "\n",
    "print(f\"XGBoost - MSE: {mse_xgb:.2f}, R-squared: {r2_xgb:.2f}\")"
   ]
  },
  {
   "cell_type": "markdown",
   "id": "7669b5d0",
   "metadata": {},
   "source": [
    "#### Save the best model locally and then it will be uploaded into AWS S3"
   ]
  },
  {
   "cell_type": "code",
   "execution_count": 31,
   "id": "bff8a669",
   "metadata": {},
   "outputs": [
    {
     "name": "stdout",
     "output_type": "stream",
     "text": [
      "The model need to be uploaded in AWS S3 !\n"
     ]
    }
   ],
   "source": [
    "import joblib\n",
    "\n",
    "# Save the pipeline (including the preprocessor and the trained XGBoost model)\n",
    "joblib.dump(xgb_model, 'xgb_bmi_predictor.pkl')\n",
    "\n",
    "# Verify saving and loading\n",
    "loaded_xgb_model = joblib.load('xgb_bmi_predictor.pkl')\n",
    "print(\"The model needs to be uploaded in AWS S3 !\")"
   ]
  },
  {
   "cell_type": "markdown",
   "id": "3d31bc4c",
   "metadata": {},
   "source": [
    "## Calculate Quote"
   ]
  },
  {
   "cell_type": "code",
   "execution_count": 32,
   "id": "14d17448",
   "metadata": {},
   "outputs": [],
   "source": [
    "# Apply business rules to determine quotes and reasons\n",
    "def calculate_quote_amount_reason(age, gender, bmi):\n",
    "    quote_reason = \"BMI is in right range\"\n",
    "    if 18 <= age <= 39 and (bmi < 17.49 or bmi > 38.5):\n",
    "        quote_amount = 750\n",
    "        quote_reason = \"Age is between 18 to 39 and BMI is either less than 17.49 or greater than 38.5\"\n",
    "    elif 40 <= age <= 59 and (bmi < 18.49 or bmi > 38.5):\n",
    "        quote_amount = 1000\n",
    "        quote_reason = \"Age is between 40 to 59 and BMI is either less than 18.49 or greater than 38.5\"\n",
    "    elif age > 60 and (bmi < 18.49 or bmi > 45.5):\n",
    "        quote_amount = 2000\n",
    "        quote_reason = \"Age is greater than 60 and BMI is either less than 18.49 or greater than 45.5\"\n",
    "    else:\n",
    "        quote_amount = 500\n",
    "    \n",
    "    # Apply gender discount\n",
    "    if gender == \"Female\":\n",
    "        quote_amount *= 0.9  # 10% discount\n",
    "\n",
    "    return quote_amount, quote_reason"
   ]
  },
  {
   "cell_type": "code",
   "execution_count": 33,
   "id": "40a54d19",
   "metadata": {},
   "outputs": [],
   "source": [
    "# Add Quote and Reason columns\n",
    "prudential_df[[\"Ins_Quote\", \"Ins_Reason\"]] = prudential_df.apply(\n",
    "    lambda row: calculate_quote_amount_reason(row[\"Ins_Age\"], row[\"Ins_Gender\"], row[\"Ins_BMI\"]), axis=1, result_type=\"expand\")"
   ]
  },
  {
   "cell_type": "code",
   "execution_count": 34,
   "id": "c836e874",
   "metadata": {},
   "outputs": [
    {
     "data": {
      "text/html": [
       "<div>\n",
       "<style scoped>\n",
       "    .dataframe tbody tr th:only-of-type {\n",
       "        vertical-align: middle;\n",
       "    }\n",
       "\n",
       "    .dataframe tbody tr th {\n",
       "        vertical-align: top;\n",
       "    }\n",
       "\n",
       "    .dataframe thead th {\n",
       "        text-align: right;\n",
       "    }\n",
       "</style>\n",
       "<table border=\"1\" class=\"dataframe\">\n",
       "  <thead>\n",
       "    <tr style=\"text-align: right;\">\n",
       "      <th></th>\n",
       "      <th>AppID</th>\n",
       "      <th>Ins_Age</th>\n",
       "      <th>Ins_Gender</th>\n",
       "      <th>Ht</th>\n",
       "      <th>Wt</th>\n",
       "      <th>Ins_BMI</th>\n",
       "      <th>Ins_Quote</th>\n",
       "      <th>Ins_Reason</th>\n",
       "    </tr>\n",
       "  </thead>\n",
       "  <tbody>\n",
       "    <tr>\n",
       "      <th>0</th>\n",
       "      <td>56372</td>\n",
       "      <td>31</td>\n",
       "      <td>Male</td>\n",
       "      <td>510</td>\n",
       "      <td>185</td>\n",
       "      <td>26.54</td>\n",
       "      <td>500.0</td>\n",
       "      <td>BMI is in right range</td>\n",
       "    </tr>\n",
       "    <tr>\n",
       "      <th>1</th>\n",
       "      <td>34565</td>\n",
       "      <td>35</td>\n",
       "      <td>Male</td>\n",
       "      <td>510</td>\n",
       "      <td>205</td>\n",
       "      <td>29.41</td>\n",
       "      <td>500.0</td>\n",
       "      <td>BMI is in right range</td>\n",
       "    </tr>\n",
       "    <tr>\n",
       "      <th>2</th>\n",
       "      <td>57732</td>\n",
       "      <td>45</td>\n",
       "      <td>Female</td>\n",
       "      <td>510</td>\n",
       "      <td>125</td>\n",
       "      <td>17.94</td>\n",
       "      <td>900.0</td>\n",
       "      <td>Age is between 40 to 59 and BMI is either less...</td>\n",
       "    </tr>\n",
       "    <tr>\n",
       "      <th>3</th>\n",
       "      <td>87324</td>\n",
       "      <td>38</td>\n",
       "      <td>Male</td>\n",
       "      <td>503</td>\n",
       "      <td>175</td>\n",
       "      <td>31.00</td>\n",
       "      <td>500.0</td>\n",
       "      <td>BMI is in right range</td>\n",
       "    </tr>\n",
       "    <tr>\n",
       "      <th>4</th>\n",
       "      <td>12323</td>\n",
       "      <td>39</td>\n",
       "      <td>Female</td>\n",
       "      <td>600</td>\n",
       "      <td>252</td>\n",
       "      <td>34.18</td>\n",
       "      <td>450.0</td>\n",
       "      <td>BMI is in right range</td>\n",
       "    </tr>\n",
       "    <tr>\n",
       "      <th>...</th>\n",
       "      <td>...</td>\n",
       "      <td>...</td>\n",
       "      <td>...</td>\n",
       "      <td>...</td>\n",
       "      <td>...</td>\n",
       "      <td>...</td>\n",
       "      <td>...</td>\n",
       "      <td>...</td>\n",
       "    </tr>\n",
       "    <tr>\n",
       "      <th>95</th>\n",
       "      <td>99511</td>\n",
       "      <td>35</td>\n",
       "      <td>Male</td>\n",
       "      <td>510</td>\n",
       "      <td>275</td>\n",
       "      <td>39.46</td>\n",
       "      <td>750.0</td>\n",
       "      <td>Age is between 18 to 39 and BMI is either less...</td>\n",
       "    </tr>\n",
       "    <tr>\n",
       "      <th>96</th>\n",
       "      <td>23781</td>\n",
       "      <td>27</td>\n",
       "      <td>Male</td>\n",
       "      <td>604</td>\n",
       "      <td>145</td>\n",
       "      <td>17.65</td>\n",
       "      <td>500.0</td>\n",
       "      <td>BMI is in right range</td>\n",
       "    </tr>\n",
       "    <tr>\n",
       "      <th>97</th>\n",
       "      <td>99517</td>\n",
       "      <td>35</td>\n",
       "      <td>Female</td>\n",
       "      <td>507</td>\n",
       "      <td>190</td>\n",
       "      <td>29.76</td>\n",
       "      <td>450.0</td>\n",
       "      <td>BMI is in right range</td>\n",
       "    </tr>\n",
       "    <tr>\n",
       "      <th>98</th>\n",
       "      <td>99520</td>\n",
       "      <td>38</td>\n",
       "      <td>Female</td>\n",
       "      <td>510</td>\n",
       "      <td>144</td>\n",
       "      <td>20.66</td>\n",
       "      <td>450.0</td>\n",
       "      <td>BMI is in right range</td>\n",
       "    </tr>\n",
       "    <tr>\n",
       "      <th>99</th>\n",
       "      <td>99516</td>\n",
       "      <td>52</td>\n",
       "      <td>Female</td>\n",
       "      <td>510</td>\n",
       "      <td>125</td>\n",
       "      <td>17.94</td>\n",
       "      <td>900.0</td>\n",
       "      <td>Age is between 40 to 59 and BMI is either less...</td>\n",
       "    </tr>\n",
       "  </tbody>\n",
       "</table>\n",
       "<p>100 rows × 8 columns</p>\n",
       "</div>"
      ],
      "text/plain": [
       "    AppID  Ins_Age Ins_Gender   Ht   Wt  Ins_BMI  Ins_Quote  \\\n",
       "0   56372       31       Male  510  185    26.54      500.0   \n",
       "1   34565       35       Male  510  205    29.41      500.0   \n",
       "2   57732       45     Female  510  125    17.94      900.0   \n",
       "3   87324       38       Male  503  175    31.00      500.0   \n",
       "4   12323       39     Female  600  252    34.18      450.0   \n",
       "..    ...      ...        ...  ...  ...      ...        ...   \n",
       "95  99511       35       Male  510  275    39.46      750.0   \n",
       "96  23781       27       Male  604  145    17.65      500.0   \n",
       "97  99517       35     Female  507  190    29.76      450.0   \n",
       "98  99520       38     Female  510  144    20.66      450.0   \n",
       "99  99516       52     Female  510  125    17.94      900.0   \n",
       "\n",
       "                                           Ins_Reason  \n",
       "0                               BMI is in right range  \n",
       "1                               BMI is in right range  \n",
       "2   Age is between 40 to 59 and BMI is either less...  \n",
       "3                               BMI is in right range  \n",
       "4                               BMI is in right range  \n",
       "..                                                ...  \n",
       "95  Age is between 18 to 39 and BMI is either less...  \n",
       "96                              BMI is in right range  \n",
       "97                              BMI is in right range  \n",
       "98                              BMI is in right range  \n",
       "99  Age is between 40 to 59 and BMI is either less...  \n",
       "\n",
       "[100 rows x 8 columns]"
      ]
     },
     "execution_count": 34,
     "metadata": {},
     "output_type": "execute_result"
    }
   ],
   "source": [
    "prudential_df"
   ]
  },
  {
   "cell_type": "markdown",
   "id": "acb08b2d",
   "metadata": {},
   "source": [
    "## AWS Architecture"
   ]
  },
  {
   "cell_type": "markdown",
   "id": "48d859c0",
   "metadata": {},
   "source": [
    "![Architecture Diagram](./AWS_Architecture.png)"
   ]
  },
  {
   "cell_type": "markdown",
   "id": "27143a01",
   "metadata": {},
   "source": [
    "## Rule-Based/Non-Machine learning Solution"
   ]
  },
  {
   "cell_type": "code",
   "execution_count": 35,
   "id": "1a485da3",
   "metadata": {},
   "outputs": [],
   "source": [
    "import json\n",
    "\n",
    "def lambda_handler(event, context):\n",
    "    # Parse input from API Gateway\n",
    "    age = event[\"age\"]\n",
    "    gender = event[\"gender\"]\n",
    "    height = event[\"height\"]\n",
    "    weight = event[\"weight\"]\n",
    "\n",
    "    # BMI Calculation\n",
    "    feet, inches = divmod(height, 100)\n",
    "    height_meters = (feet * 12 + inches) * 0.0254\n",
    "    weight_kg = weight * 0.453592\n",
    "    bmi = weight_kg / (height_meters ** 2)\n",
    "\n",
    "    # Apply business rules\n",
    "    def assign_quote(age, gender, bmi):\n",
    "        reason = \"BMI is in right range\"\n",
    "        if 18 <= age <= 39 and (bmi < 17.49 or bmi > 38.5):\n",
    "            quote = 750\n",
    "            reason = \"Age is between 18 to 39 and BMI is either less than 17.49 or greater than 38.5\"\n",
    "        elif 40 <= age <= 59 and (bmi < 18.49 or bmi > 38.5):\n",
    "            quote = 1000\n",
    "            reason = \"Age is between 40 to 59 and BMI is either less than 18.49 or greater than 38.5\"\n",
    "        elif age > 60 and (bmi < 18.49 or bmi > 45.5):\n",
    "            quote = 2000\n",
    "            reason = \"Age is greater than 60 and BMI is either less than 18.49 or greater than 45.5\"\n",
    "        else:\n",
    "            quote = 500\n",
    "        \n",
    "        if gender == \"Female\":\n",
    "            quote *= 0.9\n",
    "        return quote, reason\n",
    "\n",
    "    quote, reason = assign_quote(age, gender, bmi)\n",
    "    \n",
    "    # Return response\n",
    "    return {\n",
    "        \"statusCode\": 200,\n",
    "        \"body\": json.dumps({\n",
    "            \"bmi\": bmi,\n",
    "            \"quote\": quote,\n",
    "            \"reason\": reason\n",
    "        })\n",
    "    }\n"
   ]
  },
  {
   "cell_type": "markdown",
   "id": "ae7d9f38",
   "metadata": {},
   "source": [
    "#### Personally I don't think machine learning is required for this problem as the rules are already determined and the above given BMI and quote calculator should do the job."
   ]
  },
  {
   "cell_type": "code",
   "execution_count": null,
   "id": "07cbaed4",
   "metadata": {},
   "outputs": [],
   "source": []
  }
 ],
 "metadata": {
  "kernelspec": {
   "display_name": "Python [conda env:tensorflow] *",
   "language": "python",
   "name": "conda-env-tensorflow-py"
  },
  "language_info": {
   "codemirror_mode": {
    "name": "ipython",
    "version": 3
   },
   "file_extension": ".py",
   "mimetype": "text/x-python",
   "name": "python",
   "nbconvert_exporter": "python",
   "pygments_lexer": "ipython3",
   "version": "3.7.10"
  },
  "toc": {
   "base_numbering": 1,
   "nav_menu": {},
   "number_sections": true,
   "sideBar": true,
   "skip_h1_title": false,
   "title_cell": "Table of Contents",
   "title_sidebar": "Contents",
   "toc_cell": false,
   "toc_position": {},
   "toc_section_display": true,
   "toc_window_display": false
  }
 },
 "nbformat": 4,
 "nbformat_minor": 5
}
